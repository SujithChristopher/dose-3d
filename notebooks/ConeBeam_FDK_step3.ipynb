{
 "cells": [
  {
   "cell_type": "code",
   "execution_count": 1,
   "metadata": {},
   "outputs": [],
   "source": [
    "#CT image reconstruct through the FBP algorithm\n",
    "#Written by Ren-Qi Pan\n",
    "import math\n",
    "import os\n",
    "from pydicom import dcmread\n",
    "import matplotlib.pyplot as plt\n",
    "import numpy as np\n",
    "from tqdm import tqdm"
   ]
  },
  {
   "cell_type": "code",
   "execution_count": 2,
   "metadata": {},
   "outputs": [],
   "source": [
    "_pth = r'F:\\EPID Images\\sphere\\854320165'\n",
    "# _pth = r'F:\\EPID Images\\2024-05-04 17-12-18-MV Dosimetry-6x_Patient 1_Arc CW\\854320170'\n",
    "_files = os.listdir(_pth)"
   ]
  },
  {
   "cell_type": "code",
   "execution_count": 3,
   "metadata": {},
   "outputs": [],
   "source": [
    "dcm = dcmread(os.path.join(_pth, _files[0]))\n",
    "shape = dcm.Rows, dcm.Columns"
   ]
  },
  {
   "cell_type": "code",
   "execution_count": 4,
   "metadata": {},
   "outputs": [
    {
     "name": "stderr",
     "output_type": "stream",
     "text": [
      "  0%|          | 0/412 [00:00<?, ?it/s]"
     ]
    },
    {
     "name": "stderr",
     "output_type": "stream",
     "text": [
      "100%|██████████| 412/412 [00:03<00:00, 109.42it/s]\n"
     ]
    }
   ],
   "source": [
    "g_angle = []\n",
    "_images = np.zeros((len(_files),shape[0], shape[0]), dtype=np.uint16)\n",
    "prev = np.zeros((shape[0], shape[0]), dtype=np.uint16)\n",
    "curr = np.zeros((shape[0], shape[0]), dtype=np.uint16)\n",
    "_raw_datas = []\n",
    "for idx, _fname in enumerate(tqdm(_files)):\n",
    "    raw = dcmread(os.path.join(_pth, _fname))\n",
    "    curr = raw.pixel_array\n",
    "    \n",
    "    _m = curr - prev\n",
    "    \n",
    "    if np.max(_m) > 10000:\n",
    "        _images[idx, :, :] = _images[idx-1, :, :]\n",
    "        g_angle.append(g_angle[idx-1])\n",
    "    else:\n",
    "        _images[idx, :, :] = curr - prev\n",
    "        prev = curr\n",
    "        g_angle.append(raw.GantryAngle)\n",
    "        \n",
    "    prev = curr\n"
   ]
  },
  {
   "cell_type": "code",
   "execution_count": 5,
   "metadata": {},
   "outputs": [
    {
     "name": "stderr",
     "output_type": "stream",
     "text": [
      "100%|██████████| 412/412 [00:00<00:00, 1442.41it/s]\n"
     ]
    }
   ],
   "source": [
    "g_angle = np.array(g_angle)\n",
    "sorted_inx = np.argsort(g_angle)\n",
    "\n",
    "sorted_images = np.zeros((len(_files),shape[0], shape[0]), dtype=np.uint16)\n",
    "\n",
    "for idx, val in enumerate(tqdm(sorted_inx)):\n",
    "    sorted_images[idx, :, :] = _images[val, :, :]"
   ]
  },
  {
   "cell_type": "code",
   "execution_count": 6,
   "metadata": {},
   "outputs": [],
   "source": [
    "g_angle2 = g_angle[sorted_inx]\n",
    "_images = []"
   ]
  },
  {
   "cell_type": "code",
   "execution_count": 7,
   "metadata": {},
   "outputs": [],
   "source": [
    "#define the filter function: Ram-Lak (R-L) filter and the Shepp-Logan(S-L) filter\n",
    "#N:number of detector cells\n",
    "#d: step width of detector cells\n",
    "PI=math.pi\n",
    "\n",
    "def filter_SL(N,d):\n",
    "    fh_SL=np.zeros(N)\n",
    "    for k1 in range(0,N,1):\n",
    "        fh_SL[k1]=-2.0/(PI*PI*d*d*(4*(k1-N/2.0)**2-1))\n",
    "    return fh_SL\n",
    "\n",
    "def nearestPowerOf2(N):\n",
    "    # Calculate log2 of N\n",
    "    a = int(math.log2(N))\n",
    "    if 2**a == N:\n",
    "        return N\n",
    "    return 2**(a + 1)"
   ]
  },
  {
   "cell_type": "code",
   "execution_count": 8,
   "metadata": {},
   "outputs": [],
   "source": [
    "def Fun_Weigth_Projection(projection_beta,SOD,delta_dd):\n",
    "    Nrows,Ncolumns=projection_beta.shape\n",
    "    dd_column=delta_dd*np.arange(-Ncolumns/2+0.5,(Ncolumns/2+1)-0.5,1.0)#coordinate of detector cell in horizontal \n",
    "    dd_row=delta_dd*np.arange(-Nrows/2+0.5,(Nrows/2+1)-0.5,1.0)#coordinate of detector cell in vertical\n",
    "    dd_row2D,dd_column2D=np.meshgrid(dd_row,dd_column,indexing='ij')\n",
    "    weighted_projection=projection_beta*SOD/np.sqrt(SOD*SOD+np.power(dd_row2D,2.0)+np.power(dd_column2D,2.0))\n",
    "    return weighted_projection\n",
    "\n",
    "\n",
    "def Fun_Filter_Projection(weighted_projection,fh_RL):\n",
    "    Nrows,Ncolumns=weighted_projection.shape\n",
    "    Nfft=nearestPowerOf2(2*Ncolumns-1)\n",
    "    filtered_projection=np.zeros((Nrows,Ncolumns))\n",
    "    for row in range(Nrows):\n",
    "        projection_row=weighted_projection[row,:]\n",
    "        zeros_pad=np.zeros(Nfft-Ncolumns)\n",
    "        projection_row=np.concatenate((projection_row,zeros_pad))\n",
    "        convoluted_time=np.convolve(projection_row,fh_RL/2.0,mode='same')\n",
    "        convoluted_time=convoluted_time[:Ncolumns]\n",
    "        filtered_projection[row,:]=convoluted_time\n",
    "    return filtered_projection\n",
    "\n",
    "def Fun_BackProjection(filtered_projection,SOD,beta_num,beta_m,delta_dd,Nimage):\n",
    "    Nrows,Ncolumns=filtered_projection.shape\n",
    "    MX, MZ=Nimage,int(Nimage*Nrows/Ncolumns)\n",
    "    #roi[0], roi[1]: the min and max of x-axis and y-axis\n",
    "    #roi[2],roi[3]: the min and max of z-axis\n",
    "    \n",
    "    roi=delta_dd*np.array([-Ncolumns/2.0+0.5,Ncolumns/2.0-0.5,-Nrows/2.0+0.5,Nrows/2.0-0.5])\n",
    "    hx=(roi[1]-roi[0])/(MX-1) #interval of x-axis and y-axis\n",
    "    xrange=roi[0]+hx*np.arange(0,MX) #coordinate vector of x-axis and y-axis \n",
    "    hy=(roi[3]-roi[2])/(MZ-1) #interval of z-axis\n",
    "    yrange=roi[2]+hy*np.arange(0,MZ) #coordinate vector of z-axis \n",
    "    XX,YY,ZZ=np.meshgrid(xrange,xrange,yrange,indexing='ij')\n",
    "    temp_rec=np.zeros((MX,MX,MZ)) #store back projection contribution\n",
    "    U=(SOD+XX*np.sin(beta_m)-YY*np.cos(beta_m))/SOD\n",
    "    a=(XX*np.cos(beta_m)+YY*np.sin(beta_m))/U\n",
    "    xx=np.int32(np.floor(a/delta_dd)) #beam numbering,strart from -Ncolumns/2\n",
    "    u1=a/delta_dd-xx  #the decimal part of a\n",
    "    b=ZZ/U\n",
    "    yy=np.int32(np.floor(b/delta_dd)) #beam numbering,strart from -Nrows/2\n",
    "    u2=b/delta_dd-yy #the decimal part of b\n",
    "    xx=xx+int(Ncolumns/2) #numbering from 0\n",
    "    yy=yy+int(Nrows/2) #numbering from 0\n",
    "\n",
    "    mask=np.where((xx >=0) & (xx< Ncolumns-1) & (yy >=0) & (yy<Nrows-1))\n",
    "    xx=xx[mask]\n",
    "    yy=yy[mask]\n",
    "    u1=u1[mask]\n",
    "    u2=u2[mask]\n",
    "    # print(mask)\n",
    "    temp=(1-u1)*(1-u2)*filtered_projection[yy,xx]+(1-u1)*u2*filtered_projection[yy+1,xx]+\\\n",
    "                 (1-u2)*u1*filtered_projection[yy,xx+1]+u1*u2*filtered_projection[yy+1,xx+1]\n",
    "    temp_rec[mask]=temp_rec[mask]+temp/(np.power(U[mask],2))*2*PI/beta_num\n",
    "    print('backprojection, beta: ',round(beta_m*180/PI,1))\n",
    "    return temp_rec\n"
   ]
  },
  {
   "cell_type": "code",
   "execution_count": 9,
   "metadata": {},
   "outputs": [],
   "source": [
    "import concurrent.futures\n",
    "\n",
    "def ConeBeam_FDK_Backprojection(projection,fh_RL,beta,SOD,Nimage,delta_dd):\n",
    "    # projection: projection data in 3D, (angle,row, colums)\n",
    "    # fh_RL: R-L filter function\n",
    "    # beta: rotate angles in degrees\n",
    "    # SOD: source to rotation center distance in mm unit\n",
    "    # delta_dd: interval of the virtual detector cell\n",
    "    Ncolumns=projection.shape[2]\n",
    "    Nrows=projection.shape[1]\n",
    "    rec_image=np.zeros((Nimage,Nimage,int(Nimage*Nrows/Ncolumns)))\n",
    "    beta_num=len(beta) #number of angles\n",
    "    beta=beta*PI/180.0 # view angle in radian\n",
    "    \n",
    "    _m = range(0, beta_num,1)\n",
    "    \n",
    "    def process_item(m):\n",
    "        projection_beta=projection[m,:,:] #projection matrix at the beta angle\n",
    "        weighted_projection=Fun_Weigth_Projection(projection_beta,SOD,delta_dd)\n",
    "        filtered_projection=Fun_Filter_Projection(weighted_projection,fh_RL)\n",
    "        rec_image=rec_image+Fun_BackProjection(filtered_projection,SOD,beta_num,beta[m],delta_dd,Nimage)\n",
    "        \n",
    "    with concurrent.futures.ThreadPoolExecutor() as executor:\n",
    "        # Map the function to the items list and execute in parallel\n",
    "        executor.map(process_item, _m)\n",
    "        \n",
    "            \n",
    "    return rec_image"
   ]
  },
  {
   "cell_type": "code",
   "execution_count": 10,
   "metadata": {},
   "outputs": [
    {
     "data": {
      "text/plain": [
       "(412, 1190, 1190)"
      ]
     },
     "execution_count": 10,
     "metadata": {},
     "output_type": "execute_result"
    }
   ],
   "source": [
    "sorted_images.shape"
   ]
  },
  {
   "cell_type": "code",
   "execution_count": 11,
   "metadata": {},
   "outputs": [],
   "source": [
    "Ncolumns = sorted_images.shape[2]"
   ]
  },
  {
   "cell_type": "code",
   "execution_count": 12,
   "metadata": {},
   "outputs": [],
   "source": [
    "SID = dcm.RTImageSID\n",
    "SAD = dcm.RadiationMachineSAD"
   ]
  },
  {
   "cell_type": "code",
   "execution_count": 13,
   "metadata": {},
   "outputs": [],
   "source": [
    "Nimage=sorted_images.shape[0] #size of image\n",
    "beta=g_angle2 #rotate(view) angles\n",
    "SOD=SAD#source to origin distance, in unit mm\n",
    "SDD=SID #source to center of detector, in unit mm\n",
    "width=0.172 #size of detector cell, in unit mm\n",
    "delta_dd=width*SOD/SDD #interval of the virtual detector cell\n",
    "Nfft=nearestPowerOf2(2*Ncolumns-1) #number of points for FFT\n",
    "fh_RL=filter_SL(Nfft,delta_dd)  #get the filter kernel function\n",
    "#reconstruct the scanned object through the FBP algorithm\n",
    "rec_image=ConeBeam_FDK_Backprojection(sorted_images,fh_RL,beta,SOD,Nimage,delta_dd)"
   ]
  },
  {
   "cell_type": "code",
   "execution_count": 14,
   "metadata": {},
   "outputs": [
    {
     "data": {
      "text/plain": [
       "<matplotlib.image.AxesImage at 0x20dc3249ed0>"
      ]
     },
     "execution_count": 14,
     "metadata": {},
     "output_type": "execute_result"
    },
    {
     "data": {
      "image/png": "[encoded data removed]",
      "text/plain": [
       "<Figure size 640x480 with 1 Axes>"
      ]
     },
     "metadata": {},
     "output_type": "display_data"
    }
   ],
   "source": [
    "plt.imshow(rec_image[140,:,:])"
   ]
  },
  {
   "cell_type": "code",
   "execution_count": 15,
   "metadata": {},
   "outputs": [
    {
     "data": {
      "text/plain": [
       "1190"
      ]
     },
     "execution_count": 15,
     "metadata": {},
     "output_type": "execute_result"
    }
   ],
   "source": [
    "Ncolumns"
   ]
  },
  {
   "cell_type": "code",
   "execution_count": 16,
   "metadata": {},
   "outputs": [
    {
     "data": {
      "image/png": "[encoded data removed]",
      "text/plain": [
       "<Figure size 1200x1200 with 3 Axes>"
      ]
     },
     "metadata": {},
     "output_type": "display_data"
    }
   ],
   "source": [
    "NimageZ=Nimage*sorted_images.shape[0]/sorted_images.shape[0]\n",
    "Z_c=int(NimageZ/2.0)\n",
    "X_c=int(Nimage/2.0)\n",
    "Y_c=int(Nimage/2.0)\n",
    "figure, axis=plt.subplots(1, 3,figsize=(12,12))\n",
    "axis[0].imshow(rec_image[X_c,:,:].T, cmap='CMRmap_r')\n",
    "axis[0].set_title('cross section at X=0')\n",
    "axis[0].axis('off')\n",
    "axis[1].imshow(rec_image[:,Y_c,:].T, cmap='CMRmap_r')\n",
    "axis[1].set_title('cross section at Y=0')\n",
    "axis[1].axis('off')\n",
    "axis[2].imshow(rec_image[:,:,Z_c].T, cmap='CMRmap_r')\n",
    "axis[2].set_title('cross section at Z=0')\n",
    "# axis[2].axis('off')\n",
    "# plt.savefig(directory+\"rec_image.pdf\",format='pdf',dpi=250)\n",
    "plt.show()"
   ]
  },
  {
   "cell_type": "markdown",
   "metadata": {},
   "source": [
    "from mayavi import mlab\n",
    "# Visualize with Mayavi\n",
    "mlab.contour3d(rec_image, contours=10, opacity=0.3)\n",
    "mlab.savefig(directory+'rec_image3D.png')\n",
    "mlab.show()"
   ]
  }
 ],
 "metadata": {
  "kernelspec": {
   "display_name": "base",
   "language": "python",
   "name": "python3"
  },
  "language_info": {
   "codemirror_mode": {
    "name": "ipython",
    "version": 3
   },
   "file_extension": ".py",
   "mimetype": "text/x-python",
   "name": "python",
   "nbconvert_exporter": "python",
   "pygments_lexer": "ipython3",
   "version": "3.11.9"
  }
 },
 "nbformat": 4,
 "nbformat_minor": 2
}
