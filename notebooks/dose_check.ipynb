{
 "cells": [
  {
   "cell_type": "code",
   "execution_count": 5,
   "metadata": {},
   "outputs": [],
   "source": [
    "#CT image reconstruct through the FBP algorithm\n",
    "#Written by Ren-Qi Pan\n",
    "import math\n",
    "import os\n",
    "from pydicom import dcmread\n",
    "import matplotlib.pyplot as plt\n",
    "import numpy as np\n",
    "from tqdm import tqdm"
   ]
  },
  {
   "cell_type": "code",
   "execution_count": 6,
   "metadata": {},
   "outputs": [],
   "source": [
    "_pth = r\"E:\\CMC\\pyprojects\\radio_therapy\\dose-3d\\dataset\\VMAT 2025- TPS DOSE FILES\\60Gy in 30#\\3D DOSE\\6. SIB COMPLEX\\RD.1.2.246.352.71.7.941004452793.3192006.20250604110043.dcm\"\n",
    "# _pth = r\"E:\\CMC\\pyprojects\\radio_therapy\\dose-3d\\dataset\\VMAT 2025 - 6. SIB COMPLEX TARGET\\T1\\873251691\\00790.dcm\"\n",
    "# _pth = r\"E:\\CMC\\pyprojects\\radio_therapy\\dose-3d\\dataset\\10x10_TRIAL 1\\873251696\\00004.dcm\"\n",
    "# _pth = r\"E:\\CMC\\pyprojects\\radio_therapy\\dose-3d\\dataset\\VMAT 2025 - 1. CENTRAL TARGET\\TRIAL 1\\873251666\\00000.dcm\""
   ]
  },
  {
   "cell_type": "code",
   "execution_count": 7,
   "metadata": {},
   "outputs": [],
   "source": [
    "dcm = dcmread(_pth)"
   ]
  },
  {
   "cell_type": "code",
   "execution_count": 8,
   "metadata": {},
   "outputs": [],
   "source": [
    "images = dcm.pixel_array"
   ]
  },
  {
   "cell_type": "code",
   "execution_count": 9,
   "metadata": {},
   "outputs": [
    {
     "data": {
      "text/plain": [
       "(136, 111, 120)"
      ]
     },
     "execution_count": 9,
     "metadata": {},
     "output_type": "execute_result"
    }
   ],
   "source": [
    "images.shape"
   ]
  },
  {
   "cell_type": "code",
   "execution_count": 10,
   "metadata": {},
   "outputs": [
    {
     "data": {
      "text/plain": [
       "Dataset.file_meta -------------------------------\n",
       "(0002,0000) File Meta Information Group Length  UL: 192\n",
       "(0002,0001) File Meta Information Version       OB: b'\\x00\\x01'\n",
       "(0002,0002) Media Storage SOP Class UID         UI: RT Dose Storage\n",
       "(0002,0003) Media Storage SOP Instance UID      UI: 1.2.246.352.71.7.941004452793.3192006.20250604110043\n",
       "(0002,0010) Transfer Syntax UID                 UI: Implicit VR Little Endian\n",
       "(0002,0012) Implementation Class UID            UI: 1.2.246.352.70.2.1.163.2\n",
       "(0002,0013) Implementation Version Name         SH: 'File Svc 16.1'\n",
       "-------------------------------------------------\n",
       "(0008,0005) Specific Character Set              CS: 'ISO_IR 192'\n",
       "(0008,0012) Instance Creation Date              DA: '20250712'\n",
       "(0008,0013) Instance Creation Time              TM: '102220'\n",
       "(0008,0016) SOP Class UID                       UI: RT Dose Storage\n",
       "(0008,0018) SOP Instance UID                    UI: 1.2.246.352.71.7.941004452793.3192006.20250604110043\n",
       "(0008,0020) Study Date                          DA: '20250521'\n",
       "(0008,0021) Series Date                         DA: '20250604'\n",
       "(0008,0023) Content Date                        DA: '20250604'\n",
       "(0008,0030) Study Time                          TM: '134717.31'\n",
       "(0008,0031) Series Time                         TM: '105945.487'\n",
       "(0008,0033) Content Time                        TM: '105945.487'\n",
       "(0008,0050) Accession Number                    SH: ''\n",
       "(0008,0060) Modality                            CS: 'RTDOSE'\n",
       "(0008,0070) Manufacturer                        LO: 'Varian Medical Systems'\n",
       "(0008,0080) Institution Name                    LO: 'CMCH RANPIET CAMPUS'\n",
       "(0008,0090) Referring Physician's Name          PN: ''\n",
       "(0008,1010) Station Name                        SH: 'Variancom'\n",
       "(0008,103E) Series Description                  LO: 'Eclipse Doses'\n",
       "(0008,1040) Institutional Department Name       LO: 'Radiation Oncology'\n",
       "(0008,1070) Operators' Name                     PN: 'radonccmch/timothy'\n",
       "(0008,1090) Manufacturer's Model Name           LO: 'ARIA RadOnc'\n",
       "(0010,0010) Patient's Name                      PN: 'EPID INVIVO VMAT STUDY'\n",
       "(0010,0020) Patient ID                          LO: '2082352'\n",
       "(0010,0030) Patient's Birth Date                DA: ''\n",
       "(0010,0040) Patient's Sex                       CS: ''\n",
       "(0010,1000) Other Patient IDs                   LO: '2082352'\n",
       "(0018,0050) Slice Thickness                     DS: None\n",
       "(0018,1000) Device Serial Number                LO: '941004452793'\n",
       "(0018,1020) Software Versions                   LO: '16.1.4'\n",
       "(0020,000D) Study Instance UID                  UI: 1.2.246.352.221.4918284356994235072.16794688271243643567\n",
       "(0020,000E) Series Instance UID                 UI: 1.2.246.352.71.2.941004452793.7144438.20250604105945\n",
       "(0020,0010) Study ID                            SH: 'S'\n",
       "(0020,0011) Series Number                       IS: '302'\n",
       "(0020,0032) Image Position (Patient)            DS: [-149.5700325, -134.3231657, -380]\n",
       "(0020,0037) Image Orientation (Patient)         DS: [1, 0, 0, 0, 1, 0]\n",
       "(0020,0052) Frame of Reference UID              UI: 1.2.246.352.221.5052157987563277971.16750548103653226886\n",
       "(0020,1040) Position Reference Indicator        LO: 'OM'\n",
       "(0028,0002) Samples per Pixel                   US: 1\n",
       "(0028,0004) Photometric Interpretation          CS: 'MONOCHROME2'\n",
       "(0028,0008) Number of Frames                    IS: '136'\n",
       "(0028,0009) Frame Increment Pointer             AT: (3004,000C)\n",
       "(0028,0010) Rows                                US: 111\n",
       "(0028,0011) Columns                             US: 120\n",
       "(0028,0030) Pixel Spacing                       DS: [2.5, 2.5]\n",
       "(0028,0100) Bits Allocated                      US: 32\n",
       "(0028,0101) Bits Stored                         US: 32\n",
       "(0028,0102) High Bit                            US: 31\n",
       "(0028,0103) Pixel Representation                US: 0\n",
       "(3004,0002) Dose Units                          CS: 'GY'\n",
       "(3004,0004) Dose Type                           CS: 'PHYSICAL'\n",
       "(3004,000A) Dose Summation Type                 CS: 'PLAN'\n",
       "(3004,000C) Grid Frame Offset Vector            DS: Array of 136 elements\n",
       "(3004,000E) Dose Grid Scaling                   DS: '6e-05'\n",
       "(3004,0014) Tissue Heterogeneity Correction     CS: ['IMAGE', 'ROI_OVERRIDE']\n",
       "(3004,0050)  DVH Sequence  4 item(s) ---- \n",
       "   (3004,0001) DVH Type                            CS: 'CUMULATIVE'\n",
       "   (3004,0002) Dose Units                          CS: 'GY'\n",
       "   (3004,0004) Dose Type                           CS: 'PHYSICAL'\n",
       "   (3004,0052) DVH Dose Scaling                    DS: '1'\n",
       "   (3004,0054) DVH Volume Units                    CS: 'CM3'\n",
       "   (3004,0056) DVH Number of Bins                  IS: '6077'\n",
       "   (3004,0058) DVH Data                            DS: Array of 12154 elements\n",
       "   (3004,0060)  DVH Referenced ROI Sequence  1 item(s) ---- \n",
       "      (3004,0062) DVH ROI Contribution Type           CS: 'INCLUDED'\n",
       "      (3006,0084) Referenced ROI Number               IS: '8'\n",
       "      ---------\n",
       "   (3004,0070) DVH Minimum Dose                    DS: '53.8402669014084'\n",
       "   (3004,0072) DVH Maximum Dose                    DS: '60.7506'\n",
       "   (3004,0074) DVH Mean Dose                       DS: '58.3644969353694'\n",
       "   ---------\n",
       "   (3004,0001) DVH Type                            CS: 'CUMULATIVE'\n",
       "   (3004,0002) Dose Units                          CS: 'GY'\n",
       "   (3004,0004) Dose Type                           CS: 'PHYSICAL'\n",
       "   (3004,0052) DVH Dose Scaling                    DS: '1'\n",
       "   (3004,0054) DVH Volume Units                    CS: 'CM3'\n",
       "   (3004,0056) DVH Number of Bins                  IS: '6077'\n",
       "   (3004,0058) DVH Data                            DS: Array of 12154 elements\n",
       "   (3004,0060)  DVH Referenced ROI Sequence  1 item(s) ---- \n",
       "      (3004,0062) DVH ROI Contribution Type           CS: 'INCLUDED'\n",
       "      (3006,0084) Referenced ROI Number               IS: '7'\n",
       "      ---------\n",
       "   (3004,0070) DVH Minimum Dose                    DS: '37.7450106666667'\n",
       "   (3004,0072) DVH Maximum Dose                    DS: '60.7506'\n",
       "   (3004,0074) DVH Mean Dose                       DS: '50.8482822116223'\n",
       "   ---------\n",
       "   (3004,0001) DVH Type                            CS: 'CUMULATIVE'\n",
       "   (3004,0002) Dose Units                          CS: 'GY'\n",
       "   (3004,0004) Dose Type                           CS: 'PHYSICAL'\n",
       "   (3004,0052) DVH Dose Scaling                    DS: '1'\n",
       "   (3004,0054) DVH Volume Units                    CS: 'CM3'\n",
       "   (3004,0056) DVH Number of Bins                  IS: '4848'\n",
       "   (3004,0058) DVH Data                            DS: Array of 9696 elements\n",
       "   (3004,0060)  DVH Referenced ROI Sequence  1 item(s) ---- \n",
       "      (3004,0062) DVH ROI Contribution Type           CS: 'INCLUDED'\n",
       "      (3006,0084) Referenced ROI Number               IS: '6'\n",
       "      ---------\n",
       "   (3004,0070) DVH Minimum Dose                    DS: '23.9333402112676'\n",
       "   (3004,0072) DVH Maximum Dose                    DS: '48.46142'\n",
       "   (3004,0074) DVH Mean Dose                       DS: '35.3086342865873'\n",
       "   ---------\n",
       "   (3004,0001) DVH Type                            CS: 'CUMULATIVE'\n",
       "   (3004,0002) Dose Units                          CS: 'GY'\n",
       "   (3004,0004) Dose Type                           CS: 'PHYSICAL'\n",
       "   (3004,0052) DVH Dose Scaling                    DS: '1'\n",
       "   (3004,0054) DVH Volume Units                    CS: 'CM3'\n",
       "   (3004,0056) DVH Number of Bins                  IS: '6077'\n",
       "   (3004,0058) DVH Data                            DS: Array of 12154 elements\n",
       "   (3004,0060)  DVH Referenced ROI Sequence  1 item(s) ---- \n",
       "      (3004,0062) DVH ROI Contribution Type           CS: 'INCLUDED'\n",
       "      (3006,0084) Referenced ROI Number               IS: '1'\n",
       "      ---------\n",
       "   (3004,0070) DVH Minimum Dose                    DS: '0'\n",
       "   (3004,0072) DVH Maximum Dose                    DS: '60.7506'\n",
       "   (3004,0074) DVH Mean Dose                       DS: '7.05707125637216'\n",
       "   ---------\n",
       "(300C,0002)  Referenced RT Plan Sequence  1 item(s) ---- \n",
       "   (0008,1150) Referenced SOP Class UID            UI: RT Plan Storage\n",
       "   (0008,1155) Referenced SOP Instance UID         UI: 1.2.246.352.71.5.941004452793.1325181.20250604110043\n",
       "   ---------\n",
       "(300C,0060)  Referenced Structure Set Sequence  1 item(s) ---- \n",
       "   (0008,1150) Referenced SOP Class UID            UI: RT Structure Set Storage\n",
       "   (0008,1155) Referenced SOP Instance UID         UI: 1.2.246.352.71.4.941004452793.433028.20250606141131\n",
       "   ---------\n",
       "(7FE0,0010) Pixel Data                          OW: Array of 7246080 elements"
      ]
     },
     "execution_count": 10,
     "metadata": {},
     "output_type": "execute_result"
    }
   ],
   "source": [
    "dcm"
   ]
  },
  {
   "cell_type": "code",
   "execution_count": 60,
   "metadata": {},
   "outputs": [
    {
     "data": {
      "text/plain": [
       "np.uint16(6)"
      ]
     },
     "execution_count": 60,
     "metadata": {},
     "output_type": "execute_result"
    }
   ],
   "source": [
    "np.max(images[60])"
   ]
  },
  {
   "cell_type": "code",
   "execution_count": 61,
   "metadata": {},
   "outputs": [],
   "source": [
    "# plt.imshow(images)"
   ]
  },
  {
   "cell_type": "code",
   "execution_count": 62,
   "metadata": {},
   "outputs": [
    {
     "ename": "IndexError",
     "evalue": "too many indices for array: array is 2-dimensional, but 3 were indexed",
     "output_type": "error",
     "traceback": [
      "\u001b[1;31m---------------------------------------------------------------------------\u001b[0m",
      "\u001b[1;31mIndexError\u001b[0m                                Traceback (most recent call last)",
      "Cell \u001b[1;32mIn[62], line 7\u001b[0m\n\u001b[0;32m      5\u001b[0m Y_c\u001b[38;5;241m=\u001b[39m\u001b[38;5;28mint\u001b[39m(Nimage\u001b[38;5;241m/\u001b[39m\u001b[38;5;241m2.0\u001b[39m)\n\u001b[0;32m      6\u001b[0m figure, axis\u001b[38;5;241m=\u001b[39mplt\u001b[38;5;241m.\u001b[39msubplots(\u001b[38;5;241m1\u001b[39m, \u001b[38;5;241m3\u001b[39m,figsize\u001b[38;5;241m=\u001b[39m(\u001b[38;5;241m12\u001b[39m,\u001b[38;5;241m12\u001b[39m))\n\u001b[1;32m----> 7\u001b[0m axis[\u001b[38;5;241m0\u001b[39m]\u001b[38;5;241m.\u001b[39mimshow(\u001b[43mimages\u001b[49m\u001b[43m[\u001b[49m\u001b[43mX_c\u001b[49m\u001b[43m,\u001b[49m\u001b[43m:\u001b[49m\u001b[43m,\u001b[49m\u001b[43m:\u001b[49m\u001b[43m]\u001b[49m\u001b[38;5;241m.\u001b[39mT, cmap\u001b[38;5;241m=\u001b[39m\u001b[38;5;124m'\u001b[39m\u001b[38;5;124mCMRmap_r\u001b[39m\u001b[38;5;124m'\u001b[39m)\n\u001b[0;32m      8\u001b[0m axis[\u001b[38;5;241m0\u001b[39m]\u001b[38;5;241m.\u001b[39mset_title(\u001b[38;5;124m'\u001b[39m\u001b[38;5;124mcross section at X=0\u001b[39m\u001b[38;5;124m'\u001b[39m)\n\u001b[0;32m      9\u001b[0m axis[\u001b[38;5;241m0\u001b[39m]\u001b[38;5;241m.\u001b[39maxis(\u001b[38;5;124m'\u001b[39m\u001b[38;5;124moff\u001b[39m\u001b[38;5;124m'\u001b[39m)\n",
      "\u001b[1;31mIndexError\u001b[0m: too many indices for array: array is 2-dimensional, but 3 were indexed"
     ]
    },
    {
     "data": {
      "image/png": "[encoded data removed]",
      "text/plain": [
       "<Figure size 1200x1200 with 3 Axes>"
      ]
     },
     "metadata": {},
     "output_type": "display_data"
    }
   ],
   "source": [
    "Nimage = images.shape[0]\n",
    "NimageZ=Nimage*images.shape[0]/images.shape[0]\n",
    "Z_c=int(NimageZ/2.0)\n",
    "X_c=int(Nimage/2.0)\n",
    "Y_c=int(Nimage/2.0)\n",
    "figure, axis=plt.subplots(1, 3,figsize=(12,12))\n",
    "axis[0].imshow(images[X_c,:,:].T, cmap='CMRmap_r')\n",
    "axis[0].set_title('cross section at X=0')\n",
    "axis[0].axis('off')\n",
    "axis[1].imshow(images[:,Y_c,:].T, cmap='CMRmap_r')\n",
    "axis[1].set_title('cross section at Y=0')\n",
    "axis[1].axis('off')\n",
    "axis[2].imshow(images[:,:,Z_c].T, cmap='CMRmap_r')\n",
    "axis[2].set_title('cross section at Z=0')\n",
    "# axis[2].axis('off')\n",
    "# plt.savefig(directory+\"rec_image.pdf\",format='pdf',dpi=250)\n",
    "# plt.title('TPS dose')\n",
    "figure.align_titles()\n",
    "plt.show()"
   ]
  },
  {
   "cell_type": "code",
   "execution_count": null,
   "metadata": {},
   "outputs": [],
   "source": []
  }
 ],
 "metadata": {
  "kernelspec": {
   "display_name": "py12",
   "language": "python",
   "name": "python3"
  },
  "language_info": {
   "codemirror_mode": {
    "name": "ipython",
    "version": 3
   },
   "file_extension": ".py",
   "mimetype": "text/x-python",
   "name": "python",
   "nbconvert_exporter": "python",
   "pygments_lexer": "ipython3",
   "version": "3.12.4"
  }
 },
 "nbformat": 4,
 "nbformat_minor": 2
}
