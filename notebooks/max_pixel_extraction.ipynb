{
 "cells": [
  {
   "cell_type": "code",
   "execution_count": 19,
   "metadata": {},
   "outputs": [],
   "source": [
    "#CT image reconstruct through the FBP algorithm\n",
    "#Written by Ren-Qi Pan\n",
    "import math\n",
    "import os\n",
    "from pydicom import dcmread, dcmwrite\n",
    "import matplotlib.pyplot as plt\n",
    "import numpy as np\n",
    "from tqdm import tqdm"
   ]
  },
  {
   "cell_type": "code",
   "execution_count": 20,
   "metadata": {},
   "outputs": [],
   "source": [
    "_pth = r'F:\\EPID Images\\sphere\\854320165'\n",
    "_pth = r'D:\\CMC\\pyprojects\\radio_therapy\\dose-3d\\dataset\\2024-06-08 09-51-34-MV Dosimetry-6x\\854350196'\n",
    "_pth = r'C:\\Users\\Pintu\\OneDrive - Christian Medical College\\Fabricated Phantom Rotational RT\\EPID_Calibration on Fabricated Phantom 10x10_Extracted'\n",
    "_pth = r\"C:\\Users\\Pintu\\OneDrive - Christian Medical College\\Fabricated Phantom Rotational RT\\Calibration & Test_13.07.24_Extracted\\TEST\"\n",
    "_folders = os.listdir(_pth)"
   ]
  },
  {
   "cell_type": "code",
   "execution_count": 21,
   "metadata": {},
   "outputs": [],
   "source": [
    "PI=math.pi\n",
    "\n",
    "def filter_SL(N,d):\n",
    "    fh_SL=np.zeros(N)\n",
    "    for k1 in range(0,N,1):\n",
    "        fh_SL[k1]=-2.0/(PI*PI*d*d*(4*(k1-N/2.0)**2-1))\n",
    "    return fh_SL\n",
    "\n",
    "def nearestPowerOf2(N):\n",
    "    # Calculate log2 of N\n",
    "    a = int(math.log2(N))\n",
    "    if 2**a == N:\n",
    "        return N\n",
    "    return 2**(a + 1)"
   ]
  },
  {
   "cell_type": "code",
   "execution_count": 22,
   "metadata": {},
   "outputs": [],
   "source": [
    "from scipy.fft import fft, ifft\n",
    "\n",
    "def Fun_Weigth_Projection(projection_beta,SOD,delta_dd):\n",
    "    Nrows,Ncolumns=projection_beta.shape\n",
    "    dd_column=delta_dd*np.arange(-Ncolumns/2+0.5,(Ncolumns/2+1)-0.5,1.0)#coordinate of detector cell in horizontal \n",
    "    dd_row=delta_dd*np.arange(-Nrows/2+0.5,(Nrows/2+1)-0.5,1.0)#coordinate of detector cell in vertical\n",
    "    dd_row2D,dd_column2D=np.meshgrid(dd_row,dd_column,indexing='ij')\n",
    "    weighted_projection=projection_beta*SOD/np.sqrt(SOD*SOD+np.power(dd_row2D,2.0)+np.power(dd_column2D,2.0))\n",
    "    return weighted_projection\n",
    "\n",
    "def optimize_convolution(weighted_projection, fh_RL):\n",
    "    Nrows, Ncolumns = weighted_projection.shape\n",
    "    Nfft = nearestPowerOf2(2 * Ncolumns - 1)\n",
    "    fh_RL_padded = np.zeros(Nfft)\n",
    "    fh_RL_padded[:len(fh_RL)] = fh_RL / 2.0  # Scale and pad filter response\n",
    "    \n",
    "    fh_RL_fft = fft(fh_RL_padded)  # FFT of the filter response\n",
    "    \n",
    "    # Zero pad the input projection for FFT\n",
    "    projection_padded = np.zeros((Nrows, Nfft))\n",
    "    projection_padded[:, :Ncolumns] = weighted_projection\n",
    "\n",
    "    # Perform FFT on each row of the projection\n",
    "    projection_fft = fft(projection_padded, axis=1)\n",
    "    \n",
    "    # Element-wise multiplication in the frequency domain\n",
    "    convoluted_freq = projection_fft * fh_RL_fft\n",
    "    \n",
    "    # Perform the inverse FFT to get back to the time domain\n",
    "    convoluted_time = ifft(convoluted_freq, axis=1).real\n",
    "    \n",
    "    # Slice to obtain the result with the correct dimensions\n",
    "    filtered_projection = convoluted_time[:, :Ncolumns]\n",
    "    \n",
    "    return filtered_projection\n",
    "\n",
    "\n",
    "def Fun_Filter_Projection(weighted_projection,fh_RL):\n",
    "    Nrows,Ncolumns=weighted_projection.shape\n",
    "    Nfft=nearestPowerOf2(2*Ncolumns-1)\n",
    "    filtered_projection=np.zeros((Nrows,Ncolumns))\n",
    "    for row in range(Nrows):\n",
    "        projection_row=weighted_projection[row,:]\n",
    "        zeros_pad=np.zeros(Nfft-Ncolumns)\n",
    "        projection_row=np.concatenate((projection_row,zeros_pad))\n",
    "        convoluted_time=np.convolve(projection_row,fh_RL/2.0,mode='same')\n",
    "        convoluted_time=convoluted_time[:Ncolumns]\n",
    "        filtered_projection[row,:]=convoluted_time\n",
    "    return filtered_projection\n",
    "\n",
    "def Fun_BackProjection(filtered_projection,SOD,beta_num,beta_m,delta_dd,Nimage):\n",
    "    Nrows,Ncolumns=filtered_projection.shape\n",
    "    MX, MZ=Nimage,int(Nimage*Nrows/Ncolumns)\n",
    "    #roi[0], roi[1]: the min and max of x-axis and y-axis\n",
    "    #roi[2],roi[3]: the min and max of z-axis\n",
    "    \n",
    "    roi=delta_dd*np.array([-Ncolumns/2.0+0.5,Ncolumns/2.0-0.5,-Nrows/2.0+0.5,Nrows/2.0-0.5])\n",
    "    hx=(roi[1]-roi[0])/(MX-1) #interval of x-axis and y-axis\n",
    "    xrange=roi[0]+hx*np.arange(0,MX) #coordinate vector of x-axis and y-axis \n",
    "    hy=(roi[3]-roi[2])/(MZ-1) #interval of z-axis\n",
    "    yrange=roi[2]+hy*np.arange(0,MZ) #coordinate vector of z-axis \n",
    "    XX,YY,ZZ=np.meshgrid(xrange,xrange,yrange,indexing='ij')\n",
    "    temp_rec=np.zeros((MX,MX,MZ)) #store back projection contribution\n",
    "    U=(SOD+XX*np.sin(beta_m)-YY*np.cos(beta_m))/SOD\n",
    "    a=(XX*np.cos(beta_m)+YY*np.sin(beta_m))/U\n",
    "    xx=np.int32(np.floor(a/delta_dd)) #beam numbering,strart from -Ncolumns/2\n",
    "    u1=a/delta_dd-xx  #the decimal part of a\n",
    "    b=ZZ/U\n",
    "    yy=np.int32(np.floor(b/delta_dd)) #beam numbering,strart from -Nrows/2\n",
    "    u2=b/delta_dd-yy #the decimal part of b\n",
    "    xx=xx+int(Ncolumns/2) #numbering from 0\n",
    "    yy=yy+int(Nrows/2) #numbering from 0\n",
    "\n",
    "    mask=np.where((xx >=0) & (xx< Ncolumns-1) & (yy >=0) & (yy<Nrows-1))\n",
    "    xx=xx[mask]\n",
    "    yy=yy[mask]\n",
    "    u1=u1[mask]\n",
    "    u2=u2[mask]\n",
    "    # print(mask)\n",
    "    temp=(1-u1)*(1-u2)*filtered_projection[yy,xx]+(1-u1)*u2*filtered_projection[yy+1,xx]+\\\n",
    "                 (1-u2)*u1*filtered_projection[yy,xx+1]+u1*u2*filtered_projection[yy+1,xx+1]\n",
    "    temp_rec[mask]=temp_rec[mask]+temp/(np.power(U[mask],2))*2*PI/beta_num\n",
    "    # print('backprojection, beta: ',round(beta_m*180/PI,1))\n",
    "    return temp_rec\n"
   ]
  },
  {
   "cell_type": "code",
   "execution_count": 23,
   "metadata": {},
   "outputs": [],
   "source": [
    "def ConeBeam_FDK_Backprojection(projection,fh_RL,beta,SOD,Nimage,delta_dd):\n",
    "    # projection: projection data in 3D, (angle,row, colums)\n",
    "    # fh_RL: R-L filter function\n",
    "    # beta: rotate angles in degrees\n",
    "    # SOD: source to rotation center distance in mm unit\n",
    "    # delta_dd: interval of the virtual detector cell\n",
    "    Ncolumns=projection.shape[2]\n",
    "    Nrows=projection.shape[1]\n",
    "    rec_image=np.zeros((Nimage,Nimage,int(Nimage*Nrows/Ncolumns)))\n",
    "    beta_num=len(beta) #number of angles\n",
    "    beta=beta*PI/180.0 # view angle in radian\n",
    "    for m in tqdm(range(0, beta_num,1)):\n",
    "        projection_beta=projection[m,:,:] #projection matrix at the beta angle\n",
    "        weighted_projection=Fun_Weigth_Projection(projection_beta,SOD,delta_dd)\n",
    "        filtered_projection=optimize_convolution(weighted_projection,fh_RL)\n",
    "        rec_image=rec_image+Fun_BackProjection(weighted_projection,SOD,beta_num,beta[m],delta_dd,Nimage)\n",
    "        # break\n",
    "    return rec_image"
   ]
  },
  {
   "cell_type": "code",
   "execution_count": 24,
   "metadata": {},
   "outputs": [
    {
     "name": "stderr",
     "output_type": "stream",
     "text": [
      "  0%|          | 0/4 [00:00<?, ?it/s]"
     ]
    },
    {
     "name": "stdout",
     "output_type": "stream",
     "text": [
      "C:\\Users\\Pintu\\OneDrive - Christian Medical College\\Fabricated Phantom Rotational RT\\Calibration & Test_13.07.24_Extracted\\TEST\\2024-07-13 16-07-28-MV Dosimetry-6x_8x8_Test1\\854384206\n"
     ]
    },
    {
     "name": "stderr",
     "output_type": "stream",
     "text": [
      "100%|██████████| 398/398 [00:05<00:00, 66.61it/s]\n",
      "100%|██████████| 398/398 [00:00<00:00, 1699.11it/s]\n",
      "100%|██████████| 398/398 [02:23<00:00,  2.77it/s]\n",
      " 25%|██▌       | 1/4 [02:29<07:29, 149.84s/it]"
     ]
    },
    {
     "name": "stdout",
     "output_type": "stream",
     "text": [
      "C:\\Users\\Pintu\\OneDrive - Christian Medical College\\Fabricated Phantom Rotational RT\\Calibration & Test_13.07.24_Extracted\\TEST\\2024-07-13 16-08-43-MV Dosimetry-6x_13x13_Test2\\854384207\n"
     ]
    },
    {
     "name": "stderr",
     "output_type": "stream",
     "text": [
      "100%|██████████| 398/398 [00:04<00:00, 96.95it/s] \n",
      "100%|██████████| 398/398 [00:00<00:00, 1998.67it/s]\n",
      "100%|██████████| 398/398 [03:02<00:00,  2.18it/s]\n",
      " 50%|█████     | 2/4 [05:37<05:43, 171.84s/it]"
     ]
    },
    {
     "name": "stdout",
     "output_type": "stream",
     "text": [
      "C:\\Users\\Pintu\\OneDrive - Christian Medical College\\Fabricated Phantom Rotational RT\\Calibration & Test_13.07.24_Extracted\\TEST\\2024-07-13 16-23-52-MV Dosimetry-6x_17x17_Test3\\854384208\n"
     ]
    },
    {
     "name": "stderr",
     "output_type": "stream",
     "text": [
      "100%|██████████| 398/398 [00:04<00:00, 92.03it/s]\n",
      "100%|██████████| 398/398 [00:00<00:00, 1671.67it/s]\n",
      "100%|██████████| 398/398 [02:23<00:00,  2.77it/s]\n",
      " 75%|███████▌  | 3/4 [08:05<02:41, 161.22s/it]"
     ]
    },
    {
     "name": "stdout",
     "output_type": "stream",
     "text": [
      "C:\\Users\\Pintu\\OneDrive - Christian Medical College\\Fabricated Phantom Rotational RT\\Calibration & Test_13.07.24_Extracted\\TEST\\2024-07-13 16-25-04-MV Dosimetry-6x_12x12_Test4\\854384209\n"
     ]
    },
    {
     "name": "stderr",
     "output_type": "stream",
     "text": [
      "100%|██████████| 398/398 [00:04<00:00, 99.37it/s]\n",
      "100%|██████████| 398/398 [00:00<00:00, 2148.45it/s]\n",
      "100%|██████████| 398/398 [02:31<00:00,  2.62it/s]\n",
      "100%|██████████| 4/4 [10:41<00:00, 160.48s/it]\n"
     ]
    }
   ],
   "source": [
    "_max_pixel = []\n",
    "import pickle\n",
    "for _f in tqdm(_folders):\n",
    "    _cur_dir = os.path.join(_pth, _f, os.listdir(os.path.join(_pth, _f))[0])\n",
    "    print(_cur_dir)\n",
    "    \n",
    "    _files = os.listdir(_cur_dir)\n",
    "    \n",
    "    dcm = dcmread(os.path.join(_cur_dir, _files[0]))\n",
    "    shape = dcmread(os.path.join(_cur_dir, _files[0])).pixel_array.shape\n",
    "    \n",
    "    g_angle = []\n",
    "    _images = np.zeros((len(_files),shape[0], shape[0]), dtype=np.uint16)\n",
    "    prev = np.zeros((shape[0], shape[0]), dtype=np.uint16)\n",
    "    curr = np.zeros((shape[0], shape[0]), dtype=np.uint16)\n",
    "    _raw_datas = []\n",
    "    for idx, _fname in enumerate(tqdm(_files)):\n",
    "        raw = dcmread(os.path.join(_cur_dir, _fname))\n",
    "        curr = raw.pixel_array\n",
    "        \n",
    "        _m = curr - prev\n",
    "        \n",
    "        if np.max(_m) > 10000:\n",
    "            _images[idx, :, :] = _images[idx-1, :, :]\n",
    "            g_angle.append(g_angle[idx-1])\n",
    "        else:\n",
    "            _images[idx, :, :] = curr - prev\n",
    "            prev = curr\n",
    "            g_angle.append(raw.GantryAngle)\n",
    "            \n",
    "        prev = curr\n",
    "\n",
    "\n",
    "    g_angle = np.array(g_angle)\n",
    "    sorted_inx = np.argsort(g_angle)\n",
    "\n",
    "    sorted_images = np.zeros((len(_files),shape[0], shape[0]), dtype=np.uint16)\n",
    "\n",
    "    for idx, val in enumerate(tqdm(sorted_inx)):\n",
    "        sorted_images[idx, :, :] = _images[val, :, :]\n",
    "        \n",
    "    g_angle2 = g_angle[sorted_inx]\n",
    "    _images = []\n",
    "    \n",
    "    \n",
    "    SID = dcm.RTImageSID\n",
    "    SAD = dcm.RadiationMachineSAD\n",
    "    \n",
    "    Ncolumns = sorted_images.shape[2]\n",
    "    \n",
    "    Nimage=100 #size of image\n",
    "    beta=g_angle2 #rotate(view) angles\n",
    "    SOD=SAD#source to origin distance, in unit mm\n",
    "    SDD=SID #source to center of detector, in unit mm\n",
    "    width=0.172 #size of detector cell, in unit mm\n",
    "    delta_dd=width*SOD/SDD #interval of the virtual detector cell\n",
    "    Nfft=nearestPowerOf2(2*Ncolumns-1) #number of points for FFT\n",
    "    fh_RL=filter_SL(Nfft,delta_dd)  #get the filter kernel function\n",
    "    #reconstruct the scanned object through the FBP algorithm\n",
    "    rec_image=ConeBeam_FDK_Backprojection(sorted_images,fh_RL,beta,SOD,Nimage,delta_dd)\n",
    "    \n",
    "    _max_pixel.append(np.max(rec_image))\n",
    "    _dump_file_pth = os.path.join(r'E:\\CMC\\pyprojects\\radio_therapy\\dose-3d\\notebooks\\M_TEST', f'{_f}.pkl')\n",
    "    \n",
    "    _dump_file = open(_dump_file_pth, 'wb')\n",
    "    pickle.dump(rec_image, _dump_file)\n",
    "    _dump_file.close()\n",
    "    # print(np.max(rec_image))"
   ]
  },
  {
   "cell_type": "code",
   "execution_count": null,
   "metadata": {},
   "outputs": [],
   "source": []
  }
 ],
 "metadata": {
  "kernelspec": {
   "display_name": "gpy",
   "language": "python",
   "name": "python3"
  },
  "language_info": {
   "codemirror_mode": {
    "name": "ipython",
    "version": 3
   },
   "file_extension": ".py",
   "mimetype": "text/x-python",
   "name": "python",
   "nbconvert_exporter": "python",
   "pygments_lexer": "ipython3",
   "version": "3.11.9"
  }
 },
 "nbformat": 4,
 "nbformat_minor": 2
}
