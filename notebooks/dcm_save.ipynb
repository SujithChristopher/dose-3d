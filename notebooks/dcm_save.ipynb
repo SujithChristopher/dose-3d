{
 "cells": [
  {
   "cell_type": "code",
   "execution_count": 25,
   "metadata": {},
   "outputs": [],
   "source": [
    "import pickle\n",
    "import numpy as np\n",
    "import os\n",
    "import polars as pl\n",
    "import matplotlib.pyplot as plt\n",
    "from pydicom import dcmread, dcmwrite"
   ]
  },
  {
   "cell_type": "code",
   "execution_count": 26,
   "metadata": {},
   "outputs": [],
   "source": [
    "_TPS_pth = r\"E:\\CMC\\pyprojects\\radio_therapy\\dose-3d\\dataset\\3DDose\\RD.23022024.12 x 12.dcm\"\n",
    "tps_dcm = dcmread(_TPS_pth)\n"
   ]
  },
  {
   "cell_type": "code",
   "execution_count": 27,
   "metadata": {},
   "outputs": [],
   "source": [
    "_pth = r'E:\\CMC\\pyprojects\\radio_therapy\\dose-3d\\notebooks\\M_TEST'\n",
    "_save_pth = r\"E:\\CMC\\pyprojects\\radio_therapy\\dose-3d\\notebooks\\EPID_V2_TEST\"\n",
    "_files = os.listdir(_pth)"
   ]
  },
  {
   "cell_type": "code",
   "execution_count": 28,
   "metadata": {},
   "outputs": [],
   "source": [
    "\n",
    "for _f in _files:\n",
    "    _file_path = os.path.join(_pth, _f)\n",
    "    with open(_file_path, 'rb') as f:\n",
    "        _data = pickle.load(f)\n",
    "        data_t = np.transpose(_data, (2, 1, 0))\n",
    "        write_dicom = tps_dcm.copy()\n",
    "        write_dicom.NumberOfFrames = '100'\n",
    "        write_dicom.Rows = 100\n",
    "        write_dicom.Columns = 100\n",
    "        write_dicom.PixelData = np.int32(data_t).tobytes()\n",
    "        _pth_string = _f.split('pkl') + ['dcm']\n",
    "        dcmwrite(os.path.join(_save_pth, ''.join(_pth_string)), write_dicom)\n",
    "        "
   ]
  },
  {
   "cell_type": "code",
   "execution_count": 29,
   "metadata": {},
   "outputs": [
    {
     "data": {
      "text/plain": [
       "['2024-07-13 16-07-28-MV Dosimetry-6x_8x8_Test1.pkl',\n",
       " '2024-07-13 16-08-43-MV Dosimetry-6x_13x13_Test2.pkl',\n",
       " '2024-07-13 16-23-52-MV Dosimetry-6x_17x17_Test3.pkl',\n",
       " '2024-07-13 16-25-04-MV Dosimetry-6x_12x12_Test4.pkl']"
      ]
     },
     "execution_count": 29,
     "metadata": {},
     "output_type": "execute_result"
    }
   ],
   "source": [
    "_files"
   ]
  },
  {
   "cell_type": "code",
   "execution_count": null,
   "metadata": {},
   "outputs": [],
   "source": []
  }
 ],
 "metadata": {
  "kernelspec": {
   "display_name": "gpy",
   "language": "python",
   "name": "python3"
  },
  "language_info": {
   "codemirror_mode": {
    "name": "ipython",
    "version": 3
   },
   "file_extension": ".py",
   "mimetype": "text/x-python",
   "name": "python",
   "nbconvert_exporter": "python",
   "pygments_lexer": "ipython3",
   "version": "3.11.9"
  }
 },
 "nbformat": 4,
 "nbformat_minor": 2
}
